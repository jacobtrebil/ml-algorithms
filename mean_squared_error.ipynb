{
 "cells": [
  {
   "cell_type": "code",
   "execution_count": 17,
   "metadata": {},
   "outputs": [],
   "source": [
    "import pandas as pd\n",
    "import numpy as np"
   ]
  },
  {
   "cell_type": "code",
   "execution_count": 9,
   "metadata": {},
   "outputs": [
    {
     "name": "stdout",
     "output_type": "stream",
     "text": [
      "   x  y\n",
      "0  1  1\n",
      "1  2  2\n",
      "2  3  2\n",
      "3  4  4\n",
      "4  5  4\n"
     ]
    }
   ],
   "source": [
    "df = pd.DataFrame.from_dict({\n",
    "    'x': [1, 2, 3, 4, 5, 6, 7, 8, 9, 10],\n",
    "    'y': [1, 2, 2, 4, 4, 5, 6, 7, 9, 10]\n",
    "})\n",
    "\n",
    "print(df.head())"
   ]
  },
  {
   "attachments": {},
   "cell_type": "markdown",
   "metadata": {},
   "source": [
    "# Plotting a line of best fit"
   ]
  },
  {
   "cell_type": "code",
   "execution_count": 10,
   "metadata": {},
   "outputs": [],
   "source": [
    "import seaborn as sns\n",
    "import matplotlib.pyplot as plt"
   ]
  },
  {
   "cell_type": "code",
   "execution_count": 11,
   "metadata": {},
   "outputs": [
    {
     "data": {
      "image/png": "[encoded data removed]",
      "text/plain": [
       "<Figure size 640x480 with 1 Axes>"
      ]
     },
     "metadata": {},
     "output_type": "display_data"
    }
   ],
   "source": [
    "sns.regplot(data=df, x='x', y='y', ci=None)\n",
    "plt.ylim(bottom=0)\n",
    "plt.xlim(left=0)\n",
    "plt.show()"
   ]
  },
  {
   "attachments": {},
   "cell_type": "markdown",
   "metadata": {},
   "source": [
    "# Calculating Prediction Y Values in Sklearn"
   ]
  },
  {
   "cell_type": "code",
   "execution_count": 15,
   "metadata": {},
   "outputs": [],
   "source": [
    "from sklearn.linear_model import LinearRegression\n",
    "from sklearn.metrics import mean_squared_error"
   ]
  },
  {
   "cell_type": "code",
   "execution_count": 13,
   "metadata": {},
   "outputs": [
    {
     "name": "stdout",
     "output_type": "stream",
     "text": [
      "   x  y  y_predicted\n",
      "0  1  1     0.581818\n",
      "1  2  2     1.563636\n",
      "2  3  2     2.545455\n",
      "3  4  4     3.527273\n",
      "4  5  4     4.509091\n"
     ]
    }
   ],
   "source": [
    "model = LinearRegression()\n",
    "model.fit(df[['x']], df['y'])\n",
    "y_2 = model.predict(df[['x']])\n",
    "df['y_predicted'] = y_2\n",
    "print(df.head())"
   ]
  },
  {
   "attachments": {},
   "cell_type": "markdown",
   "metadata": {},
   "source": [
    "# Calculating the MSE with sklearn"
   ]
  },
  {
   "cell_type": "code",
   "execution_count": 16,
   "metadata": {},
   "outputs": [
    {
     "name": "stdout",
     "output_type": "stream",
     "text": [
      "0.24727272727272748\n"
     ]
    }
   ],
   "source": [
    "mse = mean_squared_error(df['y'], df['y_predicted'])\n",
    "print(mse)"
   ]
  },
  {
   "attachments": {},
   "cell_type": "markdown",
   "metadata": {},
   "source": [
    "# Definiting a custom function to calculate the MSE"
   ]
  },
  {
   "cell_type": "code",
   "execution_count": 19,
   "metadata": {},
   "outputs": [
    {
     "name": "stdout",
     "output_type": "stream",
     "text": [
      "0.24727272727272748\n"
     ]
    }
   ],
   "source": [
    "def mse(actual, predicted):\n",
    "    actual = np.array(actual)\n",
    "    predicted = np.array(predicted)\n",
    "    differences = np.subtract(actual, predicted)\n",
    "    squared_differences = np.square(differences)\n",
    "    return squared_differences.mean()\n",
    "\n",
    "print(mse(df['y'], df['y_predicted']))"
   ]
  },
  {
   "attachments": {},
   "cell_type": "markdown",
   "metadata": {},
   "source": [
    "# A shorter version of the code above"
   ]
  },
  {
   "cell_type": "code",
   "execution_count": 21,
   "metadata": {},
   "outputs": [
    {
     "name": "stdout",
     "output_type": "stream",
     "text": [
      "0.24727272727272748\n"
     ]
    }
   ],
   "source": [
    "def new_mse(actual, predicted):\n",
    "    return np.square(np.subtract(np.array(actual), np.array(predicted))).mean()\n",
    "\n",
    "print(new_mse(df['y'], df['y_predicted']))"
   ]
  }
 ],
 "metadata": {
  "kernelspec": {
   "display_name": "Python 3",
   "language": "python",
   "name": "python3"
  },
  "language_info": {
   "codemirror_mode": {
    "name": "ipython",
    "version": 3
   },
   "file_extension": ".py",
   "mimetype": "text/x-python",
   "name": "python",
   "nbconvert_exporter": "python",
   "pygments_lexer": "ipython3",
   "version": "3.11.5"
  },
  "orig_nbformat": 4
 },
 "nbformat": 4,
 "nbformat_minor": 2
}
